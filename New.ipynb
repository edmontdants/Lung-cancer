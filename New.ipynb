{
 "cells": [
  {
   "cell_type": "code",
   "execution_count": 2,
   "metadata": {},
   "outputs": [],
   "source": [
    "from sklearn.neighbors import KNeighborsClassifier\n",
    "from sklearn.model_selection import train_test_split\n",
    "import os\n",
    "#use to process image in real time \n",
    "import cv2\n",
    "import numpy as np\n",
    "#random number generator to use when shuffling the data\n",
    "from sklearn.utils import shuffle\n",
    "#from keras import backend as K\n",
    "\n",
    "from PIL import Image\n",
    "from sklearn.decomposition import PCA\n",
    "\n",
    "#from keras.utils import np_utils\n",
    "\n",
    "from sklearn.preprocessing import StandardScaler\n",
    "\n",
    "from pathlib import Path\n",
    "import matplotlib.pyplot as plt\n",
    "import numpy as np\n",
    "%matplotlib notebook\n",
    "from sklearn import svm, metrics, datasets\n",
    "from sklearn.utils import Bunch\n",
    "from sklearn.model_selection import GridSearchCV, train_test_split\n",
    "\n",
    "import skimage\n",
    "from skimage.io import imread\n",
    "from skimage.transform import resize\n",
    "import matplotlib.cm as cm"
   ]
  },
  {
   "cell_type": "code",
   "execution_count": 3,
   "metadata": {},
   "outputs": [
    {
     "name": "stdout",
     "output_type": "stream",
     "text": [
      "E:\\Thesis\\Thesis NEw\n"
     ]
    }
   ],
   "source": [
    "#get full path\n",
    "PATH = os.getcwd()\n",
    "# Define data path\n",
    "print(PATH)"
   ]
  },
  {
   "cell_type": "code",
   "execution_count": 4,
   "metadata": {},
   "outputs": [
    {
     "name": "stdout",
     "output_type": "stream",
     "text": [
      "['000000 (3).jpg', '000000 (4).jpg', '000001.jpg', '000003.jpg', '000008 (1).jpg', '000008.jpg', '000021.jpg', '000023.jpg', '000029.jpg', '000034.jpg', '000050 (1).jpg', '000050.jpg', '000053.jpg', '000055.jpg', '000061.jpg', '000063.jpg', '000064.jpg', '000068.jpg', '000071(1).jpg', '000071.jpg', '000073.jpg', '000079(1).jpg', '000079.jpg', '000082.jpg', '000083.jpg', '000085.jpg', '000087.jpg', '000091.jpg', '000098.jpg', '000099(1).jpg', '000099.jpg', '000102.jpg', '000103.jpg', '000105.jpg', '000107.jpg', '000120.jpg', '000121.jpg', '000122.jpg', '000128.jpg', '000132.jpg', '000134.jpg', '000141(1).jpg', '000141.jpg', '000142(1).jpg', '000142.jpg', '000145(1).jpg', '000145.jpg', '000146.jpg', '000148(1).jpg', '000148.jpg', '000150.jpg', '000153.jpg', '000155.jpg', '000169.jpg', '000182.jpg', '000183.jpg', '000184.jpg', '000192(1).jpg', '000192.jpg', '000204.jpg', '000210.jpg', '000221.jpg', '000222.jpg', '000223.jpg', '000224.jpg', '000244.jpg', '000258.jpg', '03.jpg', 'ID_0000_AGE_0060_CONTRAST_1_CT.jpg', 'ID_0001_AGE_0069_CONTRAST_1_CT.jpg', 'ID_0002_AGE_0074_CONTRAST_1_CT.jpg', 'ID_0003_AGE_0075_CONTRAST_1_CT.jpg', 'ID_0004_AGE_0056_CONTRAST_1_CT.jpg', 'ID_0005_AGE_0048_CONTRAST_1_CT.jpg', 'ID_0006_AGE_0075_CONTRAST_1_CT.jpg', 'ID_0007_AGE_0061_CONTRAST_1_CT.jpg', 'ID_0008_AGE_0051_CONTRAST_1_CT.jpg', 'ID_0009_AGE_0048_CONTRAST_1_CT.jpg', 'ID_0015_AGE_0061_CONTRAST_1_CT.jpg', 'ID_0018_AGE_0074_CONTRAST_1_CT.jpg', 'ID_0019_AGE_0070_CONTRAST_1_CT.jpg', 'ID_0020_AGE_0066_CONTRAST_1_CT.jpg', 'ID_0021_AGE_0067_CONTRAST_1_CT.jpg', 'ID_0023_AGE_0061_CONTRAST_1_CT.jpg', 'ID_0024_AGE_0060_CONTRAST_1_CT.jpg', 'ID_0026_AGE_0070_CONTRAST_1_CT.jpg', 'ID_0028_AGE_0074_CONTRAST_1_CT.jpg', 'ID_0029_AGE_0078_CONTRAST_1_CT.jpg', 'ID_0031_AGE_0039_CONTRAST_1_CT.jpg', 'ID_0032_AGE_0061_CONTRAST_1_CT.jpg', 'ID_0033_AGE_0071_CONTRAST_1_CT.jpg', 'ID_0034_AGE_0061_CONTRAST_1_CT.jpg', 'ID_0035_AGE_0059_CONTRAST_1_CT.jpg', 'ID_0038_AGE_0071_CONTRAST_1_CT.jpg', 'ID_0040_AGE_0069_CONTRAST_1_CT.jpg', 'ID_0044_AGE_0072_CONTRAST_1_CT.jpg', 'ID_0046_AGE_0072_CONTRAST_1_CT.jpg', 'ID_0048_AGE_0077_CONTRAST_1_CT.jpg', 'ID_0049_AGE_0061_CONTRAST_1_CT.jpg', 'ID_0050_AGE_0074_CONTRAST_0_CT.jpg', 'ID_0053_AGE_0073_CONTRAST_0_CT.jpg', 'ID_0054_AGE_0082_CONTRAST_0_CT.jpg', 'ID_0055_AGE_0071_CONTRAST_0_CT.jpg', 'ID_0057_AGE_0049_CONTRAST_0_CT.jpg', 'ID_0058_AGE_0082_CONTRAST_0_CT.jpg', 'ID_0059_AGE_0074_CONTRAST_0_CT.jpg', 'ID_0060_AGE_0080_CONTRAST_0_CT.jpg', 'ID_0061_AGE_0074_CONTRAST_0_CT.jpg', 'ID_0062_AGE_0067_CONTRAST_0_CT.jpg', 'ID_0063_AGE_0073_CONTRAST_0_CT.jpg', 'ID_0064_AGE_0058_CONTRAST_0_CT.jpg', 'ID_0065_AGE_0082_CONTRAST_0_CT.jpg', 'ID_0066_AGE_0082_CONTRAST_0_CT.jpg', 'ID_0067_AGE_0060_CONTRAST_0_CT.jpg', 'ID_0068_AGE_0072_CONTRAST_0_CT.jpg', 'ID_0069_AGE_0074_CONTRAST_0_CT.jpg', 'ID_0075_AGE_0080_CONTRAST_0_CT.jpg', 'ID_0081_AGE_0058_CONTRAST_0_CT.jpg', 'ID_0087_AGE_0044_CONTRAST_0_CT.jpg', 'ID_0088_AGE_0067_CONTRAST_0_CT.jpg', 'ID_0089_AGE_0071_CONTRAST_0_CT.jpg', 'ID_0090_AGE_0067_CONTRAST_0_CT.jpg', 'ID_0091_AGE_0072_CONTRAST_0_CT.jpg', 'ID_0092_AGE_0072_CONTRAST_0_CT.jpg', 'ID_0093_AGE_0067_CONTRAST_0_CT.jpg', 'ID_0095_AGE_0071_CONTRAST_0_CT.jpg', 'ID_0096_AGE_0083_CONTRAST_0_CT.jpg', 'ID_0097_AGE_0060_CONTRAST_0_CT.jpg', 'ID_0098_AGE_0061_CONTRAST_0_CT.jpg', 'in.jpg', 'test.jpg']\n"
     ]
    }
   ],
   "source": [
    "img_data_list = os.listdir(PATH+'\\input')\n",
    "print(img_data_list)\n"
   ]
  },
  {
   "cell_type": "code",
   "execution_count": 5,
   "metadata": {},
   "outputs": [],
   "source": [
    "inputImagePath = \"E:/Thesis/Thesis NEw/input/\"\n",
    "for img in img_data_list:\n",
    "    #print(inputImagePath+img)\n",
    "    imgRead = cv2.imread(inputImagePath+img)\n",
    "   \n",
    "    medianBlur = cv2.medianBlur(imgRead, 5)\n",
    "    \n",
    "    cv2.imwrite(os.path.join(\"E:/Thesis/Thesis NEw/medianBlur/\", img),medianBlur)\n",
    "\n"
   ]
  },
  {
   "cell_type": "code",
   "execution_count": 6,
   "metadata": {},
   "outputs": [],
   "source": [
    "def motion_process(len, size):\n",
    "    sx, sy = size\n",
    "    PSF = np.zeros((sy, sx))\n",
    "    PSF[int(sy / 2):int(sy /2 + 1), int(sx / 2 - len / 2):int(sx / 2 + len / 2)] = 1\n",
    "    return PSF / PSF.sum()"
   ]
  },
  {
   "cell_type": "code",
   "execution_count": 7,
   "metadata": {},
   "outputs": [],
   "source": [
    "def make_blurred(input, PSF, eps):\n",
    "    input_fft = np.fft.fft2(input)\n",
    "    PSF_fft = np.fft.fft2(PSF) + eps\n",
    "    blurred = np.fft.ifft2(input_fft * PSF_fft)\n",
    "    blurred = np.abs(np.fft.fftshift(blurred))\n",
    "    return blurred"
   ]
  },
  {
   "cell_type": "code",
   "execution_count": 8,
   "metadata": {},
   "outputs": [],
   "source": [
    "def wiener(input, PSF, eps):\n",
    "    input_fft = np.fft.fft2(input)\n",
    "    PSF_fft = np.fft.fft2(PSF) + eps \n",
    "    result = np.fft.ifft2(input_fft / PSF_fft) \n",
    "    result = np.abs(np.fft.fftshift(result))\n",
    "    return result"
   ]
  },
  {
   "cell_type": "code",
   "execution_count": 9,
   "metadata": {},
   "outputs": [],
   "source": [
    "inputBlurredImagepath = \"E:/Thesis/Thesis NEw/medianBlur/\"\n",
    "Blurredimg_data_list = os.listdir(inputBlurredImagepath)\n",
    "for img in Blurredimg_data_list:\n",
    "    image = Image.open('E:/Thesis/Thesis NEw/medianBlur/'+img).convert('L')\n",
    "    data = np.asarray(image.getdata()).reshape(image.size)\n",
    "    PSF = motion_process(30, data.shape)\n",
    "    blurred = np.abs(make_blurred(data, PSF, 1e-3))\n",
    "    #blurred += 0.1 * blurred.std() * np.random.standard_normal(blurred.shape)\n",
    "    weinerBlur = wiener(blurred, PSF, 1e-3)\n",
    "    cv2.imwrite(os.path.join(\"E:/Thesis/Thesis NEw/weinerBlur/\", img),weinerBlur)\n",
    "    #blurred += 0.1 * blurred.std() * np.random.standard_normal(blurred.shape)\n",
    "    #cv2.imwrite(os.path.join(\"E:/Thesis/Thesis NEw/weinerBlur/\", img),blurred)   #okay\n",
    "    "
   ]
  },
  {
   "cell_type": "code",
   "execution_count": 10,
   "metadata": {},
   "outputs": [],
   "source": [
    "# Python program to transform an image using \n",
    "# threshold. \n",
    "import numpy as np \n",
    "import cv2 \n",
    "from matplotlib import pyplot as plt \n",
    "\n",
    "inputBlurredImagepath = \"E:/Thesis/Thesis NEw/weinerBlur/\"\n",
    "Blurredimg_data_list = os.listdir(inputBlurredImagepath)\n",
    "for img in Blurredimg_data_list:\n",
    "    imga = cv2.imread(inputBlurredImagepath+img)\n",
    "   \n",
    "    gray = cv2.cvtColor(imga, cv2.COLOR_BGR2GRAY) \n",
    "    \n",
    "    ret, thresh = cv2.threshold(gray, 0, 255, \n",
    "                            cv2.THRESH_BINARY_INV +\n",
    "                            cv2.THRESH_OTSU) \n",
    "#cv2.imshow('image', thresh) \n",
    "    cv2.imwrite(os.path.join(\"E:/Thesis/Thesis NEw/thresholding/\", img),thresh)\n",
    "    #cv2.imwrite('C:\\\\Users\\\\shamb\\\\Desktop\\\\003.jpg',thresh)"
   ]
  },
  {
   "cell_type": "code",
   "execution_count": 11,
   "metadata": {},
   "outputs": [
    {
     "name": "stdout",
     "output_type": "stream",
     "text": [
      "shape of image :  (128, 128)\n",
      "shape of image :  (128, 128)\n",
      "shape of image :  (128, 128)\n",
      "shape of image :  (128, 128)\n",
      "shape of image :  (128, 128)\n",
      "shape of image :  (128, 128)\n",
      "shape of image :  (128, 128)\n",
      "shape of image :  (128, 128)\n",
      "shape of image :  (128, 128)\n",
      "shape of image :  (128, 128)\n",
      "shape of image :  (128, 128)\n",
      "shape of image :  (128, 128)\n",
      "shape of image :  (128, 128)\n",
      "shape of image :  (128, 128)\n",
      "shape of image :  (128, 128)\n",
      "shape of image :  (128, 128)\n",
      "shape of image :  (128, 128)\n",
      "shape of image :  (128, 128)\n",
      "shape of image :  (128, 128)\n",
      "shape of image :  (128, 128)\n",
      "shape of image :  (128, 128)\n",
      "shape of image :  (128, 128)\n",
      "shape of image :  (128, 128)\n",
      "shape of image :  (128, 128)\n",
      "shape of image :  (128, 128)\n",
      "shape of image :  (128, 128)\n",
      "shape of image :  (128, 128)\n",
      "shape of image :  (128, 128)\n",
      "shape of image :  (128, 128)\n",
      "shape of image :  (128, 128)\n",
      "shape of image :  (128, 128)\n",
      "shape of image :  (128, 128)\n",
      "shape of image :  (128, 128)\n",
      "shape of image :  (128, 128)\n",
      "shape of image :  (128, 128)\n",
      "shape of image :  (128, 128)\n",
      "shape of image :  (128, 128)\n",
      "shape of image :  (128, 128)\n",
      "shape of image :  (128, 128)\n",
      "shape of image :  (128, 128)\n",
      "shape of image :  (128, 128)\n",
      "shape of image :  (128, 128)\n",
      "shape of image :  (128, 128)\n",
      "shape of image :  (128, 128)\n",
      "shape of image :  (128, 128)\n",
      "shape of image :  (128, 128)\n",
      "shape of image :  (128, 128)\n",
      "shape of image :  (128, 128)\n",
      "shape of image :  (128, 128)\n",
      "shape of image :  (128, 128)\n",
      "shape of image :  (128, 128)\n",
      "shape of image :  (128, 128)\n",
      "shape of image :  (128, 128)\n",
      "shape of image :  (128, 128)\n",
      "shape of image :  (128, 128)\n",
      "shape of image :  (128, 128)\n",
      "shape of image :  (128, 128)\n",
      "shape of image :  (128, 128)\n",
      "shape of image :  (128, 128)\n",
      "shape of image :  (128, 128)\n",
      "shape of image :  (128, 128)\n",
      "shape of image :  (128, 128)\n",
      "shape of image :  (128, 128)\n",
      "shape of image :  (128, 128)\n",
      "shape of image :  (128, 128)\n",
      "shape of image :  (128, 128)\n",
      "shape of image :  (128, 128)\n",
      "shape of image :  (128, 128)\n",
      "shape of image :  (128, 128)\n",
      "shape of image :  (128, 128)\n",
      "shape of image :  (128, 128)\n",
      "shape of image :  (128, 128)\n",
      "shape of image :  (128, 128)\n",
      "shape of image :  (128, 128)\n",
      "shape of image :  (128, 128)\n",
      "shape of image :  (128, 128)\n",
      "shape of image :  (128, 128)\n",
      "shape of image :  (128, 128)\n",
      "shape of image :  (128, 128)\n",
      "shape of image :  (128, 128)\n",
      "shape of image :  (128, 128)\n",
      "shape of image :  (128, 128)\n",
      "shape of image :  (128, 128)\n",
      "shape of image :  (128, 128)\n",
      "shape of image :  (128, 128)\n",
      "shape of image :  (128, 128)\n",
      "shape of image :  (128, 128)\n",
      "shape of image :  (128, 128)\n",
      "shape of image :  (128, 128)\n",
      "shape of image :  (128, 128)\n",
      "shape of image :  (128, 128)\n",
      "shape of image :  (128, 128)\n",
      "shape of image :  (128, 128)\n",
      "shape of image :  (128, 128)\n",
      "shape of image :  (128, 128)\n",
      "shape of image :  (128, 128)\n",
      "shape of image :  (128, 128)\n",
      "shape of image :  (128, 128)\n",
      "shape of image :  (128, 128)\n",
      "shape of image :  (128, 128)\n",
      "shape of image :  (128, 128)\n",
      "shape of image :  (128, 128)\n",
      "shape of image :  (128, 128)\n",
      "shape of image :  (128, 128)\n",
      "shape of image :  (128, 128)\n",
      "shape of image :  (128, 128)\n",
      "shape of image :  (128, 128)\n",
      "shape of image :  (128, 128)\n",
      "shape of image :  (128, 128)\n",
      "shape of image :  (128, 128)\n",
      "shape of image :  (128, 128)\n",
      "shape of image :  (128, 128)\n",
      "shape of image :  (128, 128)\n",
      "shape of image :  (128, 128)\n",
      "shape of image :  (128, 128)\n",
      "shape of image :  (128, 128)\n",
      "shape of image :  (128, 128)\n",
      "shape of image :  (128, 128)\n",
      "shape of image :  (128, 128)\n",
      "shape of image :  (128, 128)\n",
      "shape of image :  (128, 128)\n",
      "shape of image :  (128, 128)\n",
      "shape of image :  (128, 128)\n",
      "shape of image :  (128, 128)\n",
      "shape of image :  (128, 128)\n",
      "shape of image :  (128, 128)\n",
      "shape of image :  (128, 128)\n",
      "shape of image :  (128, 128)\n",
      "shape of image :  (128, 128)\n",
      "shape of image :  (128, 128)\n",
      "shape of image :  (128, 128)\n"
     ]
    }
   ],
   "source": [
    "import pywt\n",
    "import pywt.data      #from previious code works fine\n",
    "BLUR = 21\n",
    "inputImagePath = \"E:/Thesis/Thesis NEw/thresholding/\"\n",
    "for img in img_data_list:\n",
    "    imgRead = cv2.imread(inputImagePath+img, cv2.IMREAD_GRAYSCALE)\n",
    "    _, mask = cv2.threshold(imgRead, 220, 255, cv2.THRESH_BINARY_INV)\n",
    " \n",
    "    kernal = np.ones((5,5), np.uint8)\n",
    "    erosion = cv2.erode(mask, kernal, iterations=1)\n",
    "    dilation = cv2.dilate(erosion, kernal, iterations=1)\n",
    "    \n",
    "    \n",
    "    opening = cv2.morphologyEx(dilation, cv2.MORPH_OPEN, kernal)\n",
    "    closing = cv2.morphologyEx(mask, cv2.MORPH_CLOSE, kernal)\n",
    "    mg = cv2.morphologyEx(erosion, cv2.MORPH_GRADIENT, kernal)\n",
    "    th = cv2.morphologyEx(mg, cv2.MORPH_TOPHAT, kernal)\n",
    "    \n",
    "    coeffs2 = pywt.dwt2(dilation, 'db1')\n",
    "    LL, (LH, HL, HH) = coeffs2\n",
    "    titles = ['Approximation', ' Horizontal detail',\n",
    "             'Vertical detail', 'Diagonal detail']\n",
    "    coeffs2 = pywt.dwt2(LL, 'db1')\n",
    "    LL, (LH, HL, HH) = coeffs2\n",
    "    \n",
    "     \n",
    "    cv2.imwrite(os.path.join(\"E:/Thesis/Thesis NEw/erosion/\", img),LL)\n",
    "    print(\"shape of image : \",LL.shape)\n",
    "    \n",
    "    "
   ]
  },
  {
   "cell_type": "code",
   "execution_count": 12,
   "metadata": {},
   "outputs": [
    {
     "name": "stderr",
     "output_type": "stream",
     "text": [
      "Using TensorFlow backend.\n"
     ]
    }
   ],
   "source": [
    "import os, random                   \n",
    "import numpy as np\n",
    "import pandas as pd\n",
    "import PIL\n",
    "import keras\n",
    "import itertools\n",
    "from PIL import Image\n",
    "\n",
    "\n",
    "\n",
    "\n",
    "from sklearn.utils import shuffle\n",
    "from sklearn.model_selection import train_test_split\n",
    "from sklearn import preprocessing\n",
    "from skimage import feature, data, io, measure\n",
    "from sklearn.metrics import confusion_matrix\n",
    "\n",
    "import matplotlib.pyplot as plt\n",
    "from matplotlib import ticker\n",
    "import seaborn as sns\n",
    "%matplotlib inline \n",
    "\n",
    "from keras import backend as K\n",
    "from keras.models import Sequential\n",
    "from keras.layers import Input, Dropout, Flatten, Conv2D, MaxPooling2D, Dense, Activation\n",
    "from keras.optimizers import RMSprop\n",
    "from keras.callbacks import ModelCheckpoint, Callback, EarlyStopping\n",
    "from keras.optimizers import Adam\n",
    "from keras.utils import np_utils\n",
    "from keras.models import Sequential\n",
    "from keras.layers import Input, Dropout, Flatten, Conv2D, MaxPooling2D, Dense, Activation\n",
    "from keras.optimizers import RMSprop\n",
    "from keras.callbacks import ModelCheckpoint, Callback, EarlyStopping\n",
    "from keras.utils import np_utils\n",
    "from keras.preprocessing.image import ImageDataGenerator"
   ]
  },
  {
   "cell_type": "code",
   "execution_count": 14,
   "metadata": {},
   "outputs": [],
   "source": [
    "path_to_train = 'E:\\\\Thesis\\\\Thesis NEw\\\\train'\n",
    "path_to_test = 'E:\\\\Thesis\\\\Thesis NEw\\\\test'\n",
    "path_to_val = 'E:\\\\Thesis\\\\Thesis NEw\\\\val'"
   ]
  },
  {
   "cell_type": "code",
   "execution_count": 15,
   "metadata": {},
   "outputs": [],
   "source": [
    "train_cat = [x for x in os.listdir(path_to_train) if x[0] is not '.']\n",
    "test_cat = [x for x in os.listdir(path_to_test) if x[0] is not '.']\n",
    "val_cat = [x for x in os.listdir(path_to_val) if x[0] is not '.']"
   ]
  },
  {
   "cell_type": "code",
   "execution_count": 16,
   "metadata": {},
   "outputs": [],
   "source": [
    "def files_per_directory(base_dir, categories):\n",
    "    files_per_dir = []\n",
    "\n",
    "    for category in categories:\n",
    "        files = os.listdir(os.path.join(base_dir, category))\n",
    "        files_per_dir.append(len(files))\n",
    "\n",
    "    return files_per_dir"
   ]
  },
  {
   "cell_type": "code",
   "execution_count": 17,
   "metadata": {},
   "outputs": [],
   "source": [
    "train_dir = files_per_directory(path_to_train, train_cat)\n",
    "test_dir = files_per_directory(path_to_test, test_cat)\n",
    "val_dir = files_per_directory(path_to_val, val_cat)"
   ]
  },
  {
   "cell_type": "code",
   "execution_count": 18,
   "metadata": {},
   "outputs": [],
   "source": [
    "train_datagen = ImageDataGenerator(\n",
    "        rescale=1./255,\n",
    "        shear_range=0.2,\n",
    "        zoom_range=0.2,\n",
    "        horizontal_flip=True)\n",
    "\n",
    "test_datagen = ImageDataGenerator(\n",
    "        rescale=1./255)\n",
    "\n",
    "valid_datagen = ImageDataGenerator(\n",
    "        rescale=1./255)"
   ]
  },
  {
   "cell_type": "code",
   "execution_count": 19,
   "metadata": {},
   "outputs": [
    {
     "name": "stdout",
     "output_type": "stream",
     "text": [
      "Found 86 images belonging to 2 classes.\n",
      "Found 52 images belonging to 2 classes.\n",
      "Found 26 images belonging to 2 classes.\n",
      "Shape of training images (128, 128, 1)\n",
      "Shape of test images (128, 128, 1)\n",
      "Shape of validation images (128, 128, 1)\n"
     ]
    }
   ],
   "source": [
    "batch_size = 32\n",
    "image_size = 128\n",
    "    \n",
    "train_generator = train_datagen.flow_from_directory(\n",
    "        path_to_train,\n",
    "        target_size=(image_size,image_size),\n",
    "        color_mode='grayscale',\n",
    "        batch_size=batch_size,\n",
    "        class_mode='sparse')\n",
    "\n",
    "test_generator = test_datagen.flow_from_directory(\n",
    "        path_to_test,\n",
    "        target_size=(image_size,image_size),\n",
    "        color_mode='grayscale',\n",
    "        batch_size=batch_size,\n",
    "        class_mode='sparse')\n",
    "\n",
    "\n",
    "validation_generator = valid_datagen.flow_from_directory(\n",
    "        path_to_val,\n",
    "        target_size=(image_size,image_size),\n",
    "        color_mode='grayscale',\n",
    "        batch_size=batch_size,\n",
    "        class_mode='sparse')\n",
    "\n",
    "print(\"Shape of training images {}\".format(train_generator.image_shape))\n",
    "print(\"Shape of test images {}\".format(test_generator.image_shape))\n",
    "print(\"Shape of validation images {}\".format(validation_generator.image_shape))\n",
    "#classes=['Normal','Pneumonia'],"
   ]
  },
  {
   "cell_type": "code",
   "execution_count": 52,
   "metadata": {},
   "outputs": [
    {
     "name": "stdout",
     "output_type": "stream",
     "text": [
      "Epoch 1/80\n",
      "3/3 [==============================] - 1s 459ms/step - loss: 0.8584 - accuracy: 0.6279 - val_loss: 0.7390 - val_accuracy: 0.4231\n",
      "Epoch 2/80\n",
      "3/3 [==============================] - 1s 368ms/step - loss: 0.6921 - accuracy: 0.5465 - val_loss: 0.4766 - val_accuracy: 0.6923\n",
      "Epoch 3/80\n",
      "3/3 [==============================] - 1s 373ms/step - loss: 0.6098 - accuracy: 0.6744 - val_loss: 0.7347 - val_accuracy: 0.6923\n",
      "Epoch 4/80\n",
      "3/3 [==============================] - 1s 385ms/step - loss: 0.5967 - accuracy: 0.6512 - val_loss: 0.7352 - val_accuracy: 0.6923\n",
      "Epoch 5/80\n",
      "3/3 [==============================] - 1s 370ms/step - loss: 0.5856 - accuracy: 0.6628 - val_loss: 0.5033 - val_accuracy: 0.6923\n",
      "Epoch 6/80\n",
      "3/3 [==============================] - 1s 374ms/step - loss: 0.5686 - accuracy: 0.6512 - val_loss: 0.6246 - val_accuracy: 0.6923\n",
      "Epoch 7/80\n",
      "3/3 [==============================] - 1s 368ms/step - loss: 0.5529 - accuracy: 0.6744 - val_loss: 0.3699 - val_accuracy: 0.7308\n",
      "Epoch 8/80\n",
      "3/3 [==============================] - 1s 401ms/step - loss: 0.5337 - accuracy: 0.7442 - val_loss: 0.4188 - val_accuracy: 0.8269\n",
      "Epoch 9/80\n",
      "3/3 [==============================] - 1s 377ms/step - loss: 0.5049 - accuracy: 0.7791 - val_loss: 0.4919 - val_accuracy: 0.8077\n",
      "Epoch 10/80\n",
      "3/3 [==============================] - 1s 400ms/step - loss: 0.5032 - accuracy: 0.7674 - val_loss: 0.4741 - val_accuracy: 0.7308\n",
      "Epoch 11/80\n",
      "3/3 [==============================] - 1s 430ms/step - loss: 0.4991 - accuracy: 0.7558 - val_loss: 0.3949 - val_accuracy: 0.7692\n",
      "Epoch 12/80\n",
      "3/3 [==============================] - 1s 378ms/step - loss: 0.4626 - accuracy: 0.8488 - val_loss: 0.2712 - val_accuracy: 0.8462\n",
      "Epoch 13/80\n",
      "3/3 [==============================] - 1s 386ms/step - loss: 0.4586 - accuracy: 0.8140 - val_loss: 0.3331 - val_accuracy: 0.8654\n",
      "Epoch 14/80\n",
      "3/3 [==============================] - 1s 437ms/step - loss: 0.4135 - accuracy: 0.7907 - val_loss: 0.2531 - val_accuracy: 0.8462\n",
      "Epoch 15/80\n",
      "3/3 [==============================] - 1s 458ms/step - loss: 0.4077 - accuracy: 0.7907 - val_loss: 0.2831 - val_accuracy: 0.9038\n",
      "Epoch 16/80\n",
      "3/3 [==============================] - 1s 415ms/step - loss: 0.3368 - accuracy: 0.8605 - val_loss: 0.2688 - val_accuracy: 0.8846\n",
      "Epoch 17/80\n",
      "3/3 [==============================] - 1s 401ms/step - loss: 0.3277 - accuracy: 0.8372 - val_loss: 0.1732 - val_accuracy: 0.9231\n",
      "Epoch 18/80\n",
      "3/3 [==============================] - 1s 383ms/step - loss: 0.3706 - accuracy: 0.8605 - val_loss: 0.1286 - val_accuracy: 0.9231\n",
      "Epoch 19/80\n",
      "3/3 [==============================] - 1s 377ms/step - loss: 0.2914 - accuracy: 0.8837 - val_loss: 0.3883 - val_accuracy: 0.8846\n",
      "Epoch 20/80\n",
      "3/3 [==============================] - 1s 376ms/step - loss: 0.2847 - accuracy: 0.8721 - val_loss: 0.0922 - val_accuracy: 0.9423\n",
      "Epoch 21/80\n",
      "3/3 [==============================] - 1s 397ms/step - loss: 0.2938 - accuracy: 0.8721 - val_loss: 0.2277 - val_accuracy: 0.9038\n",
      "Epoch 22/80\n",
      "3/3 [==============================] - 1s 407ms/step - loss: 0.2477 - accuracy: 0.9070 - val_loss: 0.2574 - val_accuracy: 0.8846\n",
      "Epoch 23/80\n",
      "3/3 [==============================] - 1s 413ms/step - loss: 0.2738 - accuracy: 0.9070 - val_loss: 0.1338 - val_accuracy: 0.9423\n",
      "Epoch 24/80\n",
      "3/3 [==============================] - 1s 393ms/step - loss: 0.1834 - accuracy: 0.9419 - val_loss: 0.1270 - val_accuracy: 0.9615\n",
      "Epoch 25/80\n",
      "3/3 [==============================] - 1s 388ms/step - loss: 0.2220 - accuracy: 0.8953 - val_loss: 0.0525 - val_accuracy: 0.9423\n",
      "Epoch 26/80\n",
      "3/3 [==============================] - 1s 395ms/step - loss: 0.2717 - accuracy: 0.8837 - val_loss: 0.1947 - val_accuracy: 0.9615\n",
      "Epoch 27/80\n",
      "3/3 [==============================] - 1s 415ms/step - loss: 0.2295 - accuracy: 0.9186 - val_loss: 0.0711 - val_accuracy: 0.9615\n",
      "Epoch 28/80\n",
      "3/3 [==============================] - 1s 425ms/step - loss: 0.1222 - accuracy: 0.9535 - val_loss: 0.1705 - val_accuracy: 0.9808\n",
      "Epoch 29/80\n",
      "3/3 [==============================] - 1s 397ms/step - loss: 0.1513 - accuracy: 0.9419 - val_loss: 0.0443 - val_accuracy: 0.9615\n",
      "Epoch 30/80\n",
      "3/3 [==============================] - 1s 441ms/step - loss: 0.1342 - accuracy: 0.9419 - val_loss: 0.0702 - val_accuracy: 0.9615\n",
      "Epoch 31/80\n",
      "3/3 [==============================] - 1s 428ms/step - loss: 0.1922 - accuracy: 0.9419 - val_loss: 0.1869 - val_accuracy: 0.9231\n",
      "Epoch 32/80\n",
      "3/3 [==============================] - 2s 502ms/step - loss: 0.1282 - accuracy: 0.9535 - val_loss: 0.0206 - val_accuracy: 0.9808\n",
      "Epoch 33/80\n",
      "3/3 [==============================] - 1s 499ms/step - loss: 0.1987 - accuracy: 0.9070 - val_loss: 0.0678 - val_accuracy: 0.9808\n",
      "Epoch 34/80\n",
      "3/3 [==============================] - 1s 427ms/step - loss: 0.2377 - accuracy: 0.9070 - val_loss: 0.0589 - val_accuracy: 0.9615\n",
      "Epoch 35/80\n",
      "3/3 [==============================] - 1s 416ms/step - loss: 0.1850 - accuracy: 0.9070 - val_loss: 0.2657 - val_accuracy: 0.9808\n",
      "Epoch 36/80\n",
      "3/3 [==============================] - 1s 413ms/step - loss: 0.2427 - accuracy: 0.9186 - val_loss: 0.0384 - val_accuracy: 0.9615\n",
      "Epoch 37/80\n",
      "3/3 [==============================] - 1s 487ms/step - loss: 0.1073 - accuracy: 0.9651 - val_loss: 0.2699 - val_accuracy: 0.9423\n",
      "Epoch 38/80\n",
      "3/3 [==============================] - 2s 524ms/step - loss: 0.1274 - accuracy: 0.9651 - val_loss: 0.3534 - val_accuracy: 0.9423\n",
      "Epoch 39/80\n",
      "3/3 [==============================] - 1s 414ms/step - loss: 0.1058 - accuracy: 0.9651 - val_loss: 0.2298 - val_accuracy: 0.9615\n",
      "Epoch 40/80\n",
      "3/3 [==============================] - 1s 438ms/step - loss: 0.1338 - accuracy: 0.9651 - val_loss: 0.3008 - val_accuracy: 0.9808\n",
      "Epoch 41/80\n",
      "3/3 [==============================] - 1s 436ms/step - loss: 0.1579 - accuracy: 0.9535 - val_loss: 0.2911 - val_accuracy: 0.9615\n",
      "Epoch 42/80\n",
      "3/3 [==============================] - 2s 515ms/step - loss: 0.0829 - accuracy: 0.9767 - val_loss: 0.0106 - val_accuracy: 0.9808\n",
      "Epoch 43/80\n",
      "3/3 [==============================] - 1s 425ms/step - loss: 0.0909 - accuracy: 0.9535 - val_loss: 0.2844 - val_accuracy: 0.9808\n",
      "Epoch 44/80\n",
      "3/3 [==============================] - 1s 456ms/step - loss: 0.1646 - accuracy: 0.9302 - val_loss: 0.1141 - val_accuracy: 0.9808\n",
      "Epoch 45/80\n",
      "3/3 [==============================] - 1s 453ms/step - loss: 0.0840 - accuracy: 0.9419 - val_loss: 0.0808 - val_accuracy: 0.9808\n",
      "Epoch 46/80\n",
      "3/3 [==============================] - 1s 434ms/step - loss: 0.0863 - accuracy: 0.9651 - val_loss: 0.0892 - val_accuracy: 0.9808\n",
      "Epoch 47/80\n",
      "3/3 [==============================] - 1s 474ms/step - loss: 0.0982 - accuracy: 0.9767 - val_loss: 0.0018 - val_accuracy: 0.9808\n",
      "Epoch 48/80\n",
      "3/3 [==============================] - 2s 507ms/step - loss: 0.0533 - accuracy: 0.9884 - val_loss: 0.0244 - val_accuracy: 1.0000\n",
      "Epoch 49/80\n",
      "3/3 [==============================] - 1s 472ms/step - loss: 0.0744 - accuracy: 0.9535 - val_loss: 0.0579 - val_accuracy: 0.9808\n",
      "Epoch 50/80\n",
      "3/3 [==============================] - 1s 449ms/step - loss: 0.0478 - accuracy: 0.9884 - val_loss: 6.8184e-04 - val_accuracy: 0.9808\n",
      "Epoch 51/80\n",
      "3/3 [==============================] - 1s 402ms/step - loss: 0.1187 - accuracy: 0.9651 - val_loss: 0.0015 - val_accuracy: 0.9808\n",
      "Epoch 52/80\n",
      "3/3 [==============================] - 1s 396ms/step - loss: 0.1366 - accuracy: 0.9302 - val_loss: 0.0173 - val_accuracy: 0.9808\n",
      "Epoch 53/80\n",
      "3/3 [==============================] - 1s 424ms/step - loss: 0.0958 - accuracy: 0.9767 - val_loss: 0.0249 - val_accuracy: 0.9808\n",
      "Epoch 54/80\n",
      "3/3 [==============================] - 1s 423ms/step - loss: 0.1276 - accuracy: 0.9535 - val_loss: 0.0422 - val_accuracy: 0.9615\n",
      "Epoch 55/80\n",
      "3/3 [==============================] - 1s 417ms/step - loss: 0.1480 - accuracy: 0.9419 - val_loss: 0.2169 - val_accuracy: 0.9808\n",
      "Epoch 56/80\n",
      "3/3 [==============================] - 1s 419ms/step - loss: 0.1031 - accuracy: 0.9767 - val_loss: 0.0581 - val_accuracy: 0.9615\n",
      "Epoch 57/80\n",
      "3/3 [==============================] - 1s 407ms/step - loss: 0.0832 - accuracy: 0.9767 - val_loss: 0.0158 - val_accuracy: 0.9808\n",
      "Epoch 58/80\n",
      "3/3 [==============================] - 1s 410ms/step - loss: 0.0999 - accuracy: 0.9767 - val_loss: 0.0016 - val_accuracy: 0.9808\n",
      "Epoch 59/80\n",
      "3/3 [==============================] - 1s 410ms/step - loss: 0.0996 - accuracy: 0.9535 - val_loss: 0.0011 - val_accuracy: 0.9808\n",
      "Epoch 60/80\n",
      "3/3 [==============================] - 1s 396ms/step - loss: 0.0936 - accuracy: 0.9651 - val_loss: 0.0020 - val_accuracy: 0.9808\n",
      "Epoch 61/80\n",
      "3/3 [==============================] - 1s 414ms/step - loss: 0.0924 - accuracy: 0.9651 - val_loss: 0.0016 - val_accuracy: 0.9808\n",
      "Epoch 62/80\n",
      "3/3 [==============================] - 1s 380ms/step - loss: 0.0863 - accuracy: 0.9651 - val_loss: 0.0012 - val_accuracy: 0.9808\n",
      "Epoch 63/80\n",
      "3/3 [==============================] - 1s 397ms/step - loss: 0.0804 - accuracy: 0.9651 - val_loss: 0.0057 - val_accuracy: 0.9808\n",
      "Epoch 64/80\n",
      "3/3 [==============================] - 1s 399ms/step - loss: 0.0292 - accuracy: 1.0000 - val_loss: 0.2013 - val_accuracy: 0.9808\n",
      "Epoch 65/80\n",
      "3/3 [==============================] - 1s 381ms/step - loss: 0.0475 - accuracy: 0.9884 - val_loss: 0.0038 - val_accuracy: 0.9808\n",
      "Epoch 66/80\n",
      "3/3 [==============================] - 1s 401ms/step - loss: 0.1528 - accuracy: 0.9302 - val_loss: 0.1520 - val_accuracy: 0.9808\n",
      "Epoch 67/80\n",
      "3/3 [==============================] - 1s 394ms/step - loss: 0.0963 - accuracy: 0.9767 - val_loss: 0.1342 - val_accuracy: 0.9808\n",
      "Epoch 68/80\n",
      "3/3 [==============================] - 1s 388ms/step - loss: 0.0660 - accuracy: 0.9767 - val_loss: 0.0024 - val_accuracy: 0.9808\n",
      "Epoch 69/80\n",
      "3/3 [==============================] - 1s 399ms/step - loss: 0.0593 - accuracy: 0.9535 - val_loss: 0.0020 - val_accuracy: 0.9808\n",
      "Epoch 70/80\n",
      "3/3 [==============================] - 1s 400ms/step - loss: 0.0366 - accuracy: 0.9884 - val_loss: 0.0105 - val_accuracy: 0.9808\n",
      "Epoch 71/80\n",
      "3/3 [==============================] - 1s 393ms/step - loss: 0.0564 - accuracy: 0.9767 - val_loss: 0.0016 - val_accuracy: 0.9808\n",
      "Epoch 72/80\n",
      "3/3 [==============================] - 1s 400ms/step - loss: 0.0557 - accuracy: 0.9884 - val_loss: 4.9303e-04 - val_accuracy: 0.9808\n",
      "Epoch 73/80\n",
      "3/3 [==============================] - 1s 385ms/step - loss: 0.0776 - accuracy: 0.9535 - val_loss: 0.0966 - val_accuracy: 0.9808\n",
      "Epoch 74/80\n",
      "3/3 [==============================] - 1s 381ms/step - loss: 0.0785 - accuracy: 0.9767 - val_loss: 0.0027 - val_accuracy: 0.9808\n",
      "Epoch 75/80\n",
      "3/3 [==============================] - 1s 432ms/step - loss: 0.0784 - accuracy: 0.9767 - val_loss: 0.0051 - val_accuracy: 0.9808\n",
      "Epoch 76/80\n",
      "3/3 [==============================] - 1s 395ms/step - loss: 0.0455 - accuracy: 0.9884 - val_loss: 0.1228 - val_accuracy: 0.9808\n",
      "Epoch 77/80\n",
      "3/3 [==============================] - 1s 434ms/step - loss: 0.0720 - accuracy: 0.9767 - val_loss: 0.0042 - val_accuracy: 0.9808\n",
      "Epoch 78/80\n",
      "3/3 [==============================] - 1s 410ms/step - loss: 0.0229 - accuracy: 1.0000 - val_loss: 0.1409 - val_accuracy: 0.9808\n",
      "Epoch 79/80\n",
      "3/3 [==============================] - 1s 382ms/step - loss: 0.0493 - accuracy: 0.9767 - val_loss: 8.0214e-04 - val_accuracy: 0.9808\n",
      "Epoch 80/80\n",
      "3/3 [==============================] - 1s 394ms/step - loss: 0.0586 - accuracy: 0.9884 - val_loss: 0.2580 - val_accuracy: 0.9808\n"
     ]
    }
   ],
   "source": [
    "batch_size = 32\n",
    "IMG_SHAPE = 128\n",
    "model = Sequential()\n",
    "\n",
    "model.add(Conv2D(16, 3, padding='same', activation='relu', input_shape=(IMG_SHAPE,IMG_SHAPE, 1)))\n",
    "model.add(MaxPooling2D(pool_size=(2, 2)))\n",
    "\n",
    "model.add(Conv2D(32, 3, padding='same', activation='relu'))\n",
    "model.add(MaxPooling2D(pool_size=(2, 2)))\n",
    "\n",
    "model.add(Conv2D(64, 3, padding='same', activation='relu'))\n",
    "model.add(MaxPooling2D(pool_size=(2, 2)))\n",
    "\n",
    "\n",
    "\n",
    "model.add(Flatten())\n",
    "model.add(Dropout(0.2))\n",
    "model.add(Dense(512, activation='relu'))\n",
    "\n",
    "model.add(Dropout(0.2))\n",
    "model.add(Dense(2, activation='softmax'))\n",
    "\n",
    "\n",
    "\n",
    "\n",
    "model.compile(optimizer='adam',\n",
    "              loss='sparse_categorical_crossentropy',\n",
    "              metrics=['accuracy'])\n",
    "\n",
    "\n",
    "\n",
    "epochs = 80\n",
    "\n",
    "history = model.fit_generator(\n",
    "    train_generator,\n",
    "    steps_per_epoch=int(np.ceil(train_generator.n / float(batch_size))),\n",
    "    epochs=epochs,\n",
    "    validation_data=test_generator,\n",
    "    validation_steps=int(np.ceil(test_generator.n / float(batch_size)))\n",
    ")\n"
   ]
  },
  {
   "cell_type": "code",
   "execution_count": 21,
   "metadata": {
    "scrolled": true
   },
   "outputs": [
    {
     "name": "stdout",
     "output_type": "stream",
     "text": [
      "Model: \"sequential_1\"\n",
      "_________________________________________________________________\n",
      "Layer (type)                 Output Shape              Param #   \n",
      "=================================================================\n",
      "conv2d_1 (Conv2D)            (None, 128, 128, 16)      32        \n",
      "_________________________________________________________________\n",
      "max_pooling2d_1 (MaxPooling2 (None, 64, 64, 16)        0         \n",
      "_________________________________________________________________\n",
      "conv2d_2 (Conv2D)            (None, 64, 64, 32)        4640      \n",
      "_________________________________________________________________\n",
      "max_pooling2d_2 (MaxPooling2 (None, 32, 32, 32)        0         \n",
      "_________________________________________________________________\n",
      "conv2d_3 (Conv2D)            (None, 32, 32, 64)        18496     \n",
      "_________________________________________________________________\n",
      "max_pooling2d_3 (MaxPooling2 (None, 16, 16, 64)        0         \n",
      "_________________________________________________________________\n",
      "flatten_1 (Flatten)          (None, 16384)             0         \n",
      "_________________________________________________________________\n",
      "dropout_1 (Dropout)          (None, 16384)             0         \n",
      "_________________________________________________________________\n",
      "dense_1 (Dense)              (None, 512)               8389120   \n",
      "_________________________________________________________________\n",
      "dropout_2 (Dropout)          (None, 512)               0         \n",
      "_________________________________________________________________\n",
      "dense_2 (Dense)              (None, 2)                 1026      \n",
      "=================================================================\n",
      "Total params: 8,413,314\n",
      "Trainable params: 8,413,314\n",
      "Non-trainable params: 0\n",
      "_________________________________________________________________\n"
     ]
    }
   ],
   "source": [
    "\n",
    "model.summary()"
   ]
  },
  {
   "cell_type": "code",
   "execution_count": 54,
   "metadata": {},
   "outputs": [
    {
     "data": {
      "text/plain": [
       "array([[0.89069694, 0.10930305]], dtype=float32)"
      ]
     },
     "execution_count": 54,
     "metadata": {},
     "output_type": "execute_result"
    }
   ],
   "source": [
    "from PIL import Image\n",
    "import numpy as np\n",
    "from skimage import transform\n",
    "def load(filename):\n",
    "   np_image = Image.open(filename)\n",
    "   np_image = np.array(np_image).astype('float32')/255\n",
    "   np_image = transform.resize(np_image, (128, 128, 1))\n",
    "   np_image = np.expand_dims(np_image, axis=0)\n",
    "   return np_image\n",
    "\n",
    "image = load('C:\\\\Users\\\\shamb\\\\Desktop\\\\004.jpg')\n",
    "model.predict(image)"
   ]
  },
  {
   "cell_type": "code",
   "execution_count": 55,
   "metadata": {},
   "outputs": [],
   "source": [
    "img = 'C:\\\\Users\\\\shamb\\\\Desktop\\\\004.jpg'"
   ]
  },
  {
   "cell_type": "code",
   "execution_count": 56,
   "metadata": {},
   "outputs": [],
   "source": [
    "from tensorflow.keras.preprocessing.image import ImageDataGenerator, load_img, img_to_array\n",
    "\n",
    "def prepare_image(image, target):\n",
    "    # if the image mode is not RGB, convert it\n",
    "    image = Image.open(img)\n",
    "    \n",
    "    if image.mode == \"RGB\":\n",
    "        image = image.convert(\"L\")\n",
    "\n",
    "    # resize the input image and preprocess it\n",
    "    image = image.resize(target)\n",
    "    image = img_to_array(image)\n",
    "    image = image.reshape(-1,128,128,1) / 255.\n",
    "\n",
    "    # return the processed image\n",
    "    return image"
   ]
  },
  {
   "cell_type": "code",
   "execution_count": 57,
   "metadata": {},
   "outputs": [],
   "source": [
    "def model_predict(img_path, model):\n",
    "    data = {'success': False}\n",
    "    image = Image.open(img)\n",
    "    image = prepare_image(image, target=(128,128))\n",
    "    prediction = model.predict(image)\n",
    "    class_predicted = np.argmax(prediction)\n",
    "    data['prediction'] = []\n",
    "    data['prediction'].append(class_predicted)\n",
    "    data['success'] = True\n",
    "    return str(data)\n"
   ]
  },
  {
   "cell_type": "code",
   "execution_count": 58,
   "metadata": {},
   "outputs": [
    {
     "data": {
      "text/plain": [
       "{'Cancer': 0, 'Normal': 1}"
      ]
     },
     "execution_count": 58,
     "metadata": {},
     "output_type": "execute_result"
    }
   ],
   "source": [
    "validation_generator.class_indices"
   ]
  },
  {
   "cell_type": "code",
   "execution_count": 59,
   "metadata": {},
   "outputs": [
    {
     "data": {
      "text/plain": [
       "\"{'success': True, 'prediction': [0]}\""
      ]
     },
     "execution_count": 59,
     "metadata": {},
     "output_type": "execute_result"
    }
   ],
   "source": [
    "model_predict(img, model)"
   ]
  },
  {
   "cell_type": "code",
   "execution_count": 80,
   "metadata": {},
   "outputs": [],
   "source": [
    "from tensorflow.keras.callbacks  import TensorBoard, ReduceLROnPlateau\n",
    "optimizer = 'adam'\n",
    "epoch = 15\n",
    "loss = 'binary_crossentropy'\n",
    "\n",
    "NAME = 'X_ray_classifier-{}-{}-{}'.format(optimizer,epoch,loss)\n",
    "\n",
    "tensorboard = TensorBoard(log_dir='logs/{}'.format(NAME))\n",
    "\n",
    "es = EarlyStopping(patience=5)\n",
    "\n",
    "#checkpoint = ModelCheckpoint('best_model.h5',save_best_only=True)\n",
    "\n",
    "lr_reduce = ReduceLROnPlateau(monitor='val_loss', factor=0.1, patience=3, verbose=1)"
   ]
  },
  {
   "cell_type": "code",
   "execution_count": 53,
   "metadata": {},
   "outputs": [
    {
     "data": {
      "image/png": "[encoded data removed]",
      "text/plain": [
       "<Figure size 432x288 with 1 Axes>"
      ]
     },
     "metadata": {
      "needs_background": "light"
     },
     "output_type": "display_data"
    },
    {
     "data": {
      "image/png": "[encoded data removed]",
      "text/plain": [
       "<Figure size 432x288 with 1 Axes>"
      ]
     },
     "metadata": {
      "needs_background": "light"
     },
     "output_type": "display_data"
    }
   ],
   "source": [
    "plt.plot(history.history['accuracy'])\n",
    "plt.plot(history.history['val_accuracy'])\n",
    "plt.title('model accuracy')\n",
    "plt.ylabel('accuracy')\n",
    "plt.xlabel('epoch')\n",
    "plt.legend(['train', 'validation'], loc='upper left')\n",
    "plt.show()\n",
    "\n",
    "plt.plot(history.history['loss'])\n",
    "plt.plot(history.history['val_loss'])\n",
    "plt.title('model loss')\n",
    "plt.ylabel('loss')\n",
    "plt.xlabel('epoch')\n",
    "plt.legend(['train', 'validation'], loc='upper left')\n",
    "plt.show()"
   ]
  },
  {
   "cell_type": "code",
   "execution_count": 93,
   "metadata": {},
   "outputs": [],
   "source": [
    "score = model.evaluate_generator(test_generator)"
   ]
  },
  {
   "cell_type": "code",
   "execution_count": 94,
   "metadata": {},
   "outputs": [
    {
     "data": {
      "text/plain": [
       "[0.2598417103290558, 0.8461538553237915]"
      ]
     },
     "execution_count": 94,
     "metadata": {},
     "output_type": "execute_result"
    }
   ],
   "source": [
    "score"
   ]
  },
  {
   "cell_type": "code",
   "execution_count": 96,
   "metadata": {},
   "outputs": [
    {
     "name": "stdout",
     "output_type": "stream",
     "text": [
      "./1586148898.h5\n"
     ]
    }
   ],
   "source": [
    "import time\n",
    "t = time.time()\n",
    "\n",
    "export_path_keras = \"./{}.h5\".format(int(t))\n",
    "print(export_path_keras)\n",
    "\n",
    "model.save(export_path_keras)"
   ]
  },
  {
   "cell_type": "code",
   "execution_count": null,
   "metadata": {},
   "outputs": [],
   "source": []
  }
 ],
 "metadata": {
  "kernelspec": {
   "display_name": "Python 3",
   "language": "python",
   "name": "python3"
  },
  "language_info": {
   "codemirror_mode": {
    "name": "ipython",
    "version": 3
   },
   "file_extension": ".py",
   "mimetype": "text/x-python",
   "name": "python",
   "nbconvert_exporter": "python",
   "pygments_lexer": "ipython3",
   "version": "3.7.3"
  }
 },
 "nbformat": 4,
 "nbformat_minor": 4
}
